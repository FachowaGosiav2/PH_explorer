{
 "cells": [
  {
   "cell_type": "code",
   "execution_count": 1,
   "metadata": {},
   "outputs": [],
   "source": [
    "import requests\n",
    "import pandas as pd\n",
    "import re\n",
    "import numpy as np"
   ]
  },
  {
   "cell_type": "code",
   "execution_count": 2,
   "metadata": {},
   "outputs": [],
   "source": [
    "headers = {'User-Agent': 'Mozilla/5.0 (Macintosh; Intel Mac OS X 10_15_7) AppleWebKit/537.36 (KHTML, like Gecko) Chrome/125.0.0.0 Safari/537.36'}\n",
    "url_pattern = re.compile(r\"\"\"<a href=\"/view_video.php\\?viewkey=(.*?)\" \"\"\")"
   ]
  },
  {
   "cell_type": "code",
   "execution_count": 3,
   "metadata": {},
   "outputs": [],
   "source": [
    "def get_url(url):\n",
    "  response = requests.get(url, headers=headers)\n",
    "  content = response.text\n",
    "  return content"
   ]
  },
  {
   "cell_type": "code",
   "execution_count": null,
   "metadata": {},
   "outputs": [],
   "source": [
    "data = []\n",
    "last_page = 440\n",
    "page_number = 1\n",
    "\n",
    "while page_number <= last_page:\n",
    "  try:\n",
    "    url = f'https://pl.pornhub.com/video?p=professional&page={page_number}'\n",
    "    content = get_url(url)\n",
    "    advs = re.findall(url_pattern, content)\n",
    "    for x in advs:\n",
    "      data.append(x)\n",
    "  except:\n",
    "    continue\n",
    "  page_number +=1"
   ]
  },
  {
   "cell_type": "code",
   "execution_count": null,
   "metadata": {},
   "outputs": [],
   "source": [
    "data = []\n",
    "last_page = 440\n",
    "page_number = 1\n",
    "\n",
    "while page_number <= last_page:\n",
    "  try:\n",
    "    url = f'https://pl.pornhub.com/video?p=homemade&page={page_number}'\n",
    "    content = get_url(url)\n",
    "    advs = re.findall(url_pattern, content)\n",
    "    for x in advs:\n",
    "      data.append(x)\n",
    "  except:\n",
    "    continue\n",
    "  page_number +=1"
   ]
  },
  {
   "cell_type": "code",
   "execution_count": null,
   "metadata": {},
   "outputs": [],
   "source": [
    "data = set(data)"
   ]
  },
  {
   "cell_type": "code",
   "execution_count": null,
   "metadata": {},
   "outputs": [],
   "source": [
    "len(data)"
   ]
  },
  {
   "cell_type": "code",
   "execution_count": null,
   "metadata": {},
   "outputs": [],
   "source": [
    "url_pattern = re.compile(r\"\"\"<a href=\"/view_video.php\\?viewkey=(.*?)\" \"\"\")\n",
    "time_pattern = re.compile(r\"\"\"<div id=\"js-shareData\" class=\"tab-menu-wrapper-table\" data-duration=\"(.*?)\" data-share-url\"\"\")\n",
    "title_pattern = re.compile(r\"\"\"<title>(.*?)(?: - Pornhub\\.com| &#124; Pornhub)<\\/title>\"\"\")\n",
    "cat_pattern = re.compile(r\"\"\"'categories_in_video' : '(.*?)'\"\"\")\n",
    "views_pattern = re.compile(r\"\"\"<div class=\"views\"><span class=\"count\">(.*?)</span> Views</div>\"\"\")\n",
    "tag_pattern = re.compile(r'<a data-event=\"video_underplayer\" data-label=\"tag\" class=\"gtm-event-video-underplayer item\" href=\"/video/search\\?search=(\\w.*?)\"')"
   ]
  },
  {
   "cell_type": "code",
   "execution_count": null,
   "metadata": {},
   "outputs": [],
   "source": [
    "def get_film(film_url):\n",
    "  url = f'https://pornhub.com/view_video.php?viewkey={film_url}'\n",
    "  response = requests.get(url, headers=headers)\n",
    "  return response.text"
   ]
  },
  {
   "cell_type": "code",
   "execution_count": null,
   "metadata": {},
   "outputs": [],
   "source": [
    "def get_time(film_content):\n",
    "  time = re.search(time_pattern, film_content)\n",
    "  return time.group(1)"
   ]
  },
  {
   "cell_type": "code",
   "execution_count": null,
   "metadata": {},
   "outputs": [],
   "source": [
    "def get_title(film_content):\n",
    "  title = re.search(title_pattern, film_content)\n",
    "  return title.group(1)"
   ]
  },
  {
   "cell_type": "code",
   "execution_count": null,
   "metadata": {},
   "outputs": [],
   "source": [
    "def get_cat(film_content):\n",
    "  cat = re.search(cat_pattern, film_content)\n",
    "  return cat.group(1)"
   ]
  },
  {
   "cell_type": "code",
   "execution_count": null,
   "metadata": {},
   "outputs": [],
   "source": [
    "def get_tags(film_content):\n",
    "  tags = re.findall(tag_pattern, film_content)\n",
    "  return tags"
   ]
  },
  {
   "cell_type": "code",
   "execution_count": null,
   "metadata": {},
   "outputs": [],
   "source": [
    "def val_to_bool(value):\n",
    "    if value[-1] == 'M':\n",
    "        return 1\n",
    "    elif value[-1] == 'K':\n",
    "        return 0\n",
    "    else:\n",
    "        return np.NaN"
   ]
  },
  {
   "cell_type": "code",
   "execution_count": null,
   "metadata": {},
   "outputs": [],
   "source": [
    "def get_views(film_content):\n",
    "  views = re.search(views_pattern, film_content)\n",
    "  return views.group(1)"
   ]
  }
 ],
 "metadata": {
  "kernelspec": {
   "display_name": "czech",
   "language": "python",
   "name": "python3"
  },
  "language_info": {
   "codemirror_mode": {
    "name": "ipython",
    "version": 3
   },
   "file_extension": ".py",
   "mimetype": "text/x-python",
   "name": "python",
   "nbconvert_exporter": "python",
   "pygments_lexer": "ipython3",
   "version": "3.10.14"
  }
 },
 "nbformat": 4,
 "nbformat_minor": 2
}
