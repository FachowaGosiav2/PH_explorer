{
 "cells": [
  {
   "cell_type": "code",
   "execution_count": 1,
   "metadata": {},
   "outputs": [],
   "source": [
    "import requests\n",
    "import pandas as pd\n",
    "import re\n",
    "import numpy as np"
   ]
  },
  {
   "cell_type": "code",
   "execution_count": 2,
   "metadata": {},
   "outputs": [],
   "source": [
    "headers = {'User-Agent': 'Mozilla/5.0 (Macintosh; Intel Mac OS X 10_15_7) AppleWebKit/537.36 (KHTML, like Gecko) Chrome/125.0.0.0 Safari/537.36'}\n",
    "url_pattern = re.compile(r\"\"\"<a href=\"/view_video.php\\?viewkey=(.*?)\" \"\"\")"
   ]
  },
  {
   "cell_type": "code",
   "execution_count": 3,
   "metadata": {},
   "outputs": [],
   "source": [
    "def get_url(url):\n",
    "  response = requests.get(url, headers=headers)\n",
    "  content = response.text\n",
    "  return content"
   ]
  },
  {
   "cell_type": "code",
   "execution_count": null,
   "metadata": {},
   "outputs": [],
   "source": [
    "data = []\n",
    "last_page = 440\n",
    "page_number = 1\n",
    "\n",
    "while page_number <= last_page:\n",
    "  try:\n",
    "    url = f'https://pl.pornhub.com/video?p=professional&page={page_number}'\n",
    "    content = get_url(url)\n",
    "    advs = re.findall(url_pattern, content)\n",
    "    for x in advs:\n",
    "      data.append(x)\n",
    "  except:\n",
    "    continue\n",
    "  page_number +=1"
   ]
  },
  {
   "cell_type": "code",
   "execution_count": null,
   "metadata": {},
   "outputs": [],
   "source": [
    "data = []\n",
    "last_page = 440\n",
    "page_number = 1\n",
    "\n",
    "while page_number <= last_page:\n",
    "  try:\n",
    "    url = f'https://pl.pornhub.com/video?p=homemade&page={page_number}'\n",
    "    content = get_url(url)\n",
    "    advs = re.findall(url_pattern, content)\n",
    "    for x in advs:\n",
    "      data.append(x)\n",
    "  except:\n",
    "    continue\n",
    "  page_number +=1"
   ]
  },
  {
   "cell_type": "code",
   "execution_count": null,
   "metadata": {},
   "outputs": [],
   "source": [
    "data = set(data)"
   ]
  },
  {
   "cell_type": "code",
   "execution_count": null,
   "metadata": {},
   "outputs": [],
   "source": [
    "len(data)"
   ]
  },
  {
   "cell_type": "code",
   "execution_count": null,
   "metadata": {},
   "outputs": [],
   "source": [
    "url_pattern = re.compile(r\"\"\"<a href=\"/view_video.php\\?viewkey=(.*?)\" \"\"\")\n",
    "time_pattern = re.compile(r\"\"\"<div id=\"js-shareData\" class=\"tab-menu-wrapper-table\" data-duration=\"(.*?)\" data-share-url\"\"\")\n",
    "title_pattern = re.compile(r\"\"\"<title>(.*?)(?: - Pornhub\\.com| &#124; Pornhub)<\\/title>\"\"\")\n",
    "cat_pattern = re.compile(r\"\"\"'categories_in_video' : '(.*?)'\"\"\")\n",
    "views_pattern = re.compile(r\"\"\"<div class=\"views\"><span class=\"count\">(.*?)</span> Views</div>\"\"\")\n",
    "tag_pattern = re.compile(r'<a data-event=\"video_underplayer\" data-label=\"tag\" class=\"gtm-event-video-underplayer item\" href=\"/video/search\\?search=(\\w.*?)\"')"
   ]
  },
  {
   "cell_type": "code",
   "execution_count": null,
   "metadata": {},
   "outputs": [],
   "source": [
    "def get_film(film_url):\n",
    "  url = f'https://pornhub.com/view_video.php?viewkey={film_url}'\n",
    "  response = requests.get(url, headers=headers)\n",
    "  return response.text"
   ]
  },
  {
   "cell_type": "code",
   "execution_count": null,
   "metadata": {},
   "outputs": [],
   "source": [
    "def get_time(film_content):\n",
    "  time = re.search(time_pattern, film_content)\n",
    "  return time.group(1)"
   ]
  },
  {
   "cell_type": "code",
   "execution_count": null,
   "metadata": {},
   "outputs": [],
   "source": [
    "def get_title(film_content):\n",
    "  title = re.search(title_pattern, film_content)\n",
    "  return title.group(1)"
   ]
  },
  {
   "cell_type": "code",
   "execution_count": null,
   "metadata": {},
   "outputs": [],
   "source": [
    "def get_cat(film_content):\n",
    "  cat = re.search(cat_pattern, film_content)\n",
    "  return cat.group(1)"
   ]
  },
  {
   "cell_type": "code",
   "execution_count": null,
   "metadata": {},
   "outputs": [],
   "source": [
    "def get_tags(film_content):\n",
    "  tags = re.findall(tag_pattern, film_content)\n",
    "  return tags"
   ]
  },
  {
   "cell_type": "code",
   "execution_count": null,
   "metadata": {},
   "outputs": [],
   "source": [
    "def val_to_bool(value):\n",
    "    if value[-1] == 'M':\n",
    "        return 1\n",
    "    elif value[-1] == 'K':\n",
    "        return 0\n",
    "    else:\n",
    "        return np.NaN"
   ]
  },
  {
   "cell_type": "code",
   "execution_count": null,
   "metadata": {},
   "outputs": [],
   "source": [
    "def get_views(film_content):\n",
    "  views = re.search(views_pattern, film_content)\n",
    "  return views.group(1)"
   ]
  },
  {
   "cell_type": "code",
   "execution_count": null,
   "metadata": {},
   "outputs": [],
   "source": [
    "list_of_data = []\n",
    "views_list = []\n",
    "time_list = []\n",
    "title_list = []\n",
    "\n",
    "for link in data:\n",
    "  text = get_film(link)\n",
    "  try:\n",
    "    cat = get_cat(text)\n",
    "    cat_list = list(cat.split(\",\"))\n",
    "    views = val_to_bool(get_views(text))\n",
    "    time = get_time(text)\n",
    "    title = get_title(text)\n",
    "    tags = get_tags(text)\n",
    "\n",
    "  except:\n",
    "    continue\n",
    "  views_list.append(views)\n",
    "  time_list.append(time)\n",
    "  title_list.append(title)\n",
    "  list_of_data.append(cat_list + tags)"
   ]
  },
  {
   "cell_type": "code",
   "execution_count": null,
   "metadata": {},
   "outputs": [],
   "source": [
    "unique_categories = set(category for category_list in list_of_data for category in category_list)"
   ]
  },
  {
   "cell_type": "code",
   "execution_count": null,
   "metadata": {},
   "outputs": [],
   "source": [
    "len(unique_categories)"
   ]
  },
  {
   "cell_type": "code",
   "execution_count": null,
   "metadata": {},
   "outputs": [],
   "source": [
    "list_1 = list_of_data[:4799]\n",
    "list_2 = list_of_data[4799:9598]\n",
    "list_3 = list_of_data[9598:14397]\n",
    "list_4 = list_of_data[14397:19348]"
   ]
  },
  {
   "cell_type": "code",
   "execution_count": null,
   "metadata": {},
   "outputs": [],
   "source": [
    "#Podział na 4 jest stąd że trwa to w nieskończoność, niewiadomo dlaczego\n",
    "\n",
    "def create_category_presence_dict(category_lists, unique_categories):\n",
    "    category_dict = {\n",
    "        category: [True if category in category_list else False for category_list in category_lists]\n",
    "        for category in unique_categories\n",
    "    }\n",
    "    return category_dict\n",
    "\n",
    "\n",
    "l1 = create_category_presence_dict(list_1, unique_categories)\n",
    "l2 = create_category_presence_dict(list_2, unique_categories)\n",
    "l3 = create_category_presence_dict(list_3, unique_categories)\n",
    "l4 = create_category_presence_dict(list_4, unique_categories)"
   ]
  },
  {
   "cell_type": "code",
   "execution_count": null,
   "metadata": {},
   "outputs": [],
   "source": [
    "l11 = pd.DataFrame(l1, dtype='bool')\n",
    "l12 = pd.DataFrame(l2, dtype='bool')\n",
    "l13 = pd.DataFrame(l3, dtype='bool')\n",
    "l14 = pd.DataFrame(l4, dtype='bool')\n",
    "\n",
    "y = pd.DataFrame(views_list, dtype='bool')\n",
    "title = pd.DataFrame(title_list)\n",
    "time = pd.DataFrame(time_list)"
   ]
  },
  {
   "cell_type": "code",
   "execution_count": null,
   "metadata": {},
   "outputs": [],
   "source": [
    "y.rename(columns={0: 'kolumna_celi',}, inplace=True)\n",
    "time.rename(columns={0: 'czas',}, inplace=True)\n",
    "title.rename(columns={0: 'tytuł',}, inplace=True)"
   ]
  },
  {
   "cell_type": "code",
   "execution_count": null,
   "metadata": {},
   "outputs": [],
   "source": [
    "X = pd.concat([l11, l12, l13, l14], ignore_index=True) "
   ]
  },
  {
   "cell_type": "code",
   "execution_count": null,
   "metadata": {},
   "outputs": [],
   "source": [
    "X.to_csv('X.csv', index=False)\n",
    "y.to_csv('y.csv', index=False)\n",
    "time.to_csv('time.csv', index=False)\n",
    "title.to_csv('title.csv', index=False)"
   ]
  }
 ],
 "metadata": {
  "kernelspec": {
   "display_name": "czech",
   "language": "python",
   "name": "python3"
  },
  "language_info": {
   "codemirror_mode": {
    "name": "ipython",
    "version": 3
   },
   "file_extension": ".py",
   "mimetype": "text/x-python",
   "name": "python",
   "nbconvert_exporter": "python",
   "pygments_lexer": "ipython3",
   "version": "3.10.14"
  }
 },
 "nbformat": 4,
 "nbformat_minor": 2
}
