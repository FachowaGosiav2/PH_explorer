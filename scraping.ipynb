{
 "cells": [
  {
   "cell_type": "code",
   "execution_count": 1,
   "metadata": {},
   "outputs": [],
   "source": [
    "import requests\n",
    "import pandas as pd\n",
    "import re\n",
    "import numpy as np"
   ]
  },
  {
   "cell_type": "code",
   "execution_count": 2,
   "metadata": {},
   "outputs": [],
   "source": [
    "headers = {'User-Agent': 'Mozilla/5.0 (Macintosh; Intel Mac OS X 10_15_7) AppleWebKit/537.36 (KHTML, like Gecko) Chrome/125.0.0.0 Safari/537.36'}\n",
    "url_pattern = re.compile(r\"\"\"<a href=\"/view_video.php\\?viewkey=(.*?)\" \"\"\")"
   ]
  },
  {
   "cell_type": "code",
   "execution_count": 3,
   "metadata": {},
   "outputs": [],
   "source": [
    "def get_url(url):\n",
    "  response = requests.get(url, headers=headers)\n",
    "  content = response.text\n",
    "  return content"
   ]
  },
  {
   "cell_type": "code",
   "execution_count": null,
   "metadata": {},
   "outputs": [],
   "source": [
    "data = []\n",
    "last_page = 440\n",
    "page_number = 1\n",
    "\n",
    "while page_number <= last_page:\n",
    "  try:\n",
    "    url = f'https://pl.pornhub.com/video?p=professional&page={page_number}'\n",
    "    content = get_url(url)\n",
    "    advs = re.findall(url_pattern, content)\n",
    "    for x in advs:\n",
    "      data.append(x)\n",
    "  except:\n",
    "    continue\n",
    "  page_number +=1"
   ]
  },
  {
   "cell_type": "code",
   "execution_count": null,
   "metadata": {},
   "outputs": [],
   "source": [
    "data = []\n",
    "last_page = 440\n",
    "page_number = 1\n",
    "\n",
    "while page_number <= last_page:\n",
    "  try:\n",
    "    url = f'https://pl.pornhub.com/video?p=homemade&page={page_number}'\n",
    "    content = get_url(url)\n",
    "    advs = re.findall(url_pattern, content)\n",
    "    for x in advs:\n",
    "      data.append(x)\n",
    "  except:\n",
    "    continue\n",
    "  page_number +=1"
   ]
  }
 ],
 "metadata": {
  "kernelspec": {
   "display_name": "czech",
   "language": "python",
   "name": "python3"
  },
  "language_info": {
   "codemirror_mode": {
    "name": "ipython",
    "version": 3
   },
   "file_extension": ".py",
   "mimetype": "text/x-python",
   "name": "python",
   "nbconvert_exporter": "python",
   "pygments_lexer": "ipython3",
   "version": "3.10.14"
  }
 },
 "nbformat": 4,
 "nbformat_minor": 2
}
