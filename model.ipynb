{
 "cells": [
  {
   "cell_type": "code",
   "execution_count": null,
   "metadata": {},
   "outputs": [],
   "source": [
    "import pandas as pd\n",
    "import matplotlib.pyplot as plt\n",
    "from sklearn.decomposition import PCA\n",
    "from sklearn.feature_selection import chi2\n",
    "from sklearn.pipeline import Pipeline\n",
    "from sklearn.preprocessing import StandardScaler\n",
    "from sklearn.impute import SimpleImputer\n",
    "from sklearn.model_selection import train_test_split\n",
    "from sklearn.metrics import rand_score"
   ]
  },
  {
   "cell_type": "code",
   "execution_count": null,
   "metadata": {},
   "outputs": [],
   "source": [
    "X = pd.read_csv('X.csv')\n",
    "y = pd.read_csv('y.csv')\n",
    "time = pd.read_csv('time.csv')"
   ]
  },
  {
   "cell_type": "code",
   "execution_count": null,
   "metadata": {},
   "outputs": [],
   "source": [
    "X['time'] = time"
   ]
  },
  {
   "cell_type": "code",
   "execution_count": 1,
   "metadata": {},
   "outputs": [
    {
     "ename": "NameError",
     "evalue": "name 'X' is not defined",
     "output_type": "error",
     "traceback": [
      "\u001b[1;31m---------------------------------------------------------------------------\u001b[0m",
      "\u001b[1;31mNameError\u001b[0m                                 Traceback (most recent call last)",
      "Cell \u001b[1;32mIn[1], line 1\u001b[0m\n\u001b[1;32m----> 1\u001b[0m \u001b[43mX\u001b[49m\n",
      "\u001b[1;31mNameError\u001b[0m: name 'X' is not defined"
     ]
    }
   ],
   "source": [
    "X"
   ]
  },
  {
   "cell_type": "code",
   "execution_count": null,
   "metadata": {},
   "outputs": [],
   "source": [
    "X_train, X_test, y_train, y_test = train_test_split(X, y, test_size=0.2, random_state=42)"
   ]
  },
  {
   "cell_type": "code",
   "execution_count": null,
   "metadata": {},
   "outputs": [],
   "source": [
    "y_train.value_counts(normalize=True)"
   ]
  },
  {
   "cell_type": "code",
   "execution_count": null,
   "metadata": {},
   "outputs": [],
   "source": [
    "chi2_stats, p_values = chi2(X_train, y_train)\n",
    "chi2_stats"
   ]
  },
  {
   "cell_type": "code",
   "execution_count": null,
   "metadata": {},
   "outputs": [],
   "source": [
    "good_colums = []\n",
    "for x, y in zip(chi2_stats,X_train.columns.tolist()):\n",
    "  if x > 0.2:\n",
    "    good_colums.append(y)\n",
    "    \n",
    "    \n",
    "X_train_X = X_train[good_colums]\n",
    "X_test_X = X_test[good_colums]"
   ]
  },
  {
   "cell_type": "code",
   "execution_count": null,
   "metadata": {},
   "outputs": [],
   "source": [
    "from sklearn.model_selection import GridSearchCV\n",
    "from sklearn.tree import DecisionTreeClassifier\n",
    "from xgboost import XGBClassifier\n",
    "from catboost import CatBoostClassifier\n",
    "from sklearn.metrics import accuracy_score"
   ]
  },
  {
   "cell_type": "code",
   "execution_count": null,
   "metadata": {},
   "outputs": [],
   "source": [
    "# Algorytm PCA nie działa na kolumny binarne, a MCA jedynie zabiera interpretowalność danych\n",
    "\n",
    "pipeline = Pipeline([\n",
    "    ('imputer', SimpleImputer(strategy='median')),  \n",
    "    ('scaler', StandardScaler()),               \n",
    "    ])"
   ]
  },
  {
   "cell_type": "code",
   "execution_count": null,
   "metadata": {},
   "outputs": [],
   "source": [
    "X_train_pipe = pipeline.fit_transform(X_train_X)\n",
    "X_test_pipe = pipeline.fit_transform(X_test_X)"
   ]
  },
  {
   "cell_type": "code",
   "execution_count": null,
   "metadata": {},
   "outputs": [],
   "source": [
    "from sklearn.metrics import confusion_matrix, precision_score, recall_score"
   ]
  },
  {
   "cell_type": "code",
   "execution_count": null,
   "metadata": {},
   "outputs": [],
   "source": [
    "classifiers = {\n",
    "    'CatBoost': CatBoostClassifier(),\n",
    "    'XGBoost': XGBClassifier(),\n",
    "    'DecisionTree': DecisionTreeClassifier(),\n",
    "}\n",
    "\n",
    "param_grids = {\n",
    "    'DecisionTree': {\n",
    "        'max_depth': [150, 200],\n",
    "        'min_samples_split': [5, 10]\n",
    "    },\n",
    "    'XGBoost': {\n",
    "        'n_estimators': [100, 150],\n",
    "        'max_depth': [6, 9],\n",
    "        'learning_rate': [1.5, 2],\n",
    "        'subsample': [0.4, 0.6,]\n",
    "    },\n",
    "    'CatBoost': {\n",
    "        'iterations': [300, 400],\n",
    "        'depth': [8, 10, 12],\n",
    "        'learning_rate': [1, 1.5, 2],\n",
    "    }\n",
    "}"
   ]
  },
  {
   "cell_type": "code",
   "execution_count": null,
   "metadata": {},
   "outputs": [],
   "source": [
    "best_estimators = {}\n",
    "for clf_name in classifiers:\n",
    "    print(f\"Grid Search dla {clf_name}\")\n",
    "    grid_search = GridSearchCV(classifiers[clf_name], param_grids[clf_name], cv=5, scoring='recall', n_jobs=-1)\n",
    "    grid_search.fit(X_train_pipe, y_train)\n",
    "    best_estimators[clf_name] = grid_search.best_estimator_\n",
    "    print(f\"Najlepsze parametry dla {clf_name}: {grid_search.best_params_}\")\n",
    "    print(f\"Najlepszy wynik dla {clf_name}: {grid_search.best_score_}\\n\")"
   ]
  },
  {
   "cell_type": "code",
   "execution_count": null,
   "metadata": {},
   "outputs": [],
   "source": [
    "DT = DecisionTreeClassifier(max_depth= 200, min_samples_split = 5)\n",
    "XGBC = XGBClassifier(learning_rate = 2, max_depth = 9, n_estimators = 150, subsample=0.6)\n",
    "CBC = CatBoostClassifier(depth=8, iterations=300, learning_rate=2)"
   ]
  },
  {
   "cell_type": "code",
   "execution_count": null,
   "metadata": {},
   "outputs": [],
   "source": [
    "DT.fit(X_train_pipe, y_train)\n",
    "XGBC.fit(X_train_pipe, y_train)\n",
    "CBC.fit(X_train_pipe, y_train)"
   ]
  },
  {
   "cell_type": "code",
   "execution_count": null,
   "metadata": {},
   "outputs": [],
   "source": [
    "y_pred_DT = DT.predict(X_test_pipe)\n",
    "\n",
    "print(recall_score(y_test, y_pred_DT))\n",
    "print(precision_score(y_test, y_pred_DT))\n",
    "print(confusion_matrix(y_test, y_pred_DT))"
   ]
  },
  {
   "cell_type": "code",
   "execution_count": null,
   "metadata": {},
   "outputs": [],
   "source": [
    "y_pred_XGBC = XGBC.predict(X_test_pipe)\n",
    "\n",
    "print(recall_score(y_test, y_pred_XGBC))\n",
    "print(precision_score(y_test, y_pred_XGBC))\n",
    "print(confusion_matrix(y_test, y_pred_XGBC))"
   ]
  },
  {
   "cell_type": "code",
   "execution_count": null,
   "metadata": {},
   "outputs": [],
   "source": [
    "y_pred_CBC = CBC.predict(X_test_pipe)\n",
    "\n",
    "print(recall_score(y_test, y_pred_CBC))\n",
    "print(precision_score(y_test, y_pred_CBC))\n",
    "print(confusion_matrix(y_test, y_pred_CBC))"
   ]
  }
 ],
 "metadata": {
  "kernelspec": {
   "display_name": "czech",
   "language": "python",
   "name": "python3"
  },
  "language_info": {
   "codemirror_mode": {
    "name": "ipython",
    "version": 3
   },
   "file_extension": ".py",
   "mimetype": "text/x-python",
   "name": "python",
   "nbconvert_exporter": "python",
   "pygments_lexer": "ipython3",
   "version": "3.10.14"
  }
 },
 "nbformat": 4,
 "nbformat_minor": 2
}
